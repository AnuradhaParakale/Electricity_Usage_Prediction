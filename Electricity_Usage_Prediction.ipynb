{
 "cells": [
  {
   "cell_type": "code",
   "execution_count": 1,
   "id": "e7b79d7d",
   "metadata": {},
   "outputs": [],
   "source": [
    "import pandas as pd\n",
    "import numpy as np\n",
    "import matplotlib.pyplot as plt\n",
    "import seaborn as sns\n",
    "import warnings\n",
    "warnings.simplefilter('ignore')\n",
    "\n",
    "import re\n",
    "from sklearn.preprocessing import LabelEncoder\n",
    "from sklearn.preprocessing import StandardScaler\n",
    "\n",
    "from sklearn.model_selection import train_test_split\n",
    "from sklearn.svm import SVR\n",
    "from sklearn.ensemble import RandomForestRegressor\n",
    "from sklearn.linear_model import LinearRegression\n",
    "from xgboost import XGBRegressor\n",
    "from sklearn.metrics import mean_squared_error, r2_score,accuracy_score\n",
    "from sklearn.model_selection import train_test_split, GridSearchCV"
   ]
  },
  {
   "cell_type": "code",
   "execution_count": 2,
   "id": "f502c293",
   "metadata": {},
   "outputs": [
    {
     "data": {
      "text/html": [
       "<div>\n",
       "<style scoped>\n",
       "    .dataframe tbody tr th:only-of-type {\n",
       "        vertical-align: middle;\n",
       "    }\n",
       "\n",
       "    .dataframe tbody tr th {\n",
       "        vertical-align: top;\n",
       "    }\n",
       "\n",
       "    .dataframe thead th {\n",
       "        text-align: right;\n",
       "    }\n",
       "</style>\n",
       "<table border=\"1\" class=\"dataframe\">\n",
       "  <thead>\n",
       "    <tr style=\"text-align: right;\">\n",
       "      <th></th>\n",
       "      <th>ID</th>\n",
       "      <th>Type_of_AC</th>\n",
       "      <th>Model</th>\n",
       "      <th>Cooling_Capacity</th>\n",
       "      <th>Avg_Temp</th>\n",
       "      <th>Room_SIze</th>\n",
       "      <th>Num_People</th>\n",
       "      <th>Star_Rating</th>\n",
       "      <th>Age_of_Unit</th>\n",
       "      <th>Maintenance</th>\n",
       "      <th>Avg_Usage</th>\n",
       "      <th>Avg_AC_Temp</th>\n",
       "      <th>City</th>\n",
       "      <th>Input_Power</th>\n",
       "      <th>Electricity_Consumption_AC</th>\n",
       "    </tr>\n",
       "  </thead>\n",
       "  <tbody>\n",
       "    <tr>\n",
       "      <th>0</th>\n",
       "      <td>795823</td>\n",
       "      <td>Split</td>\n",
       "      <td>1.5</td>\n",
       "      <td>6579.15</td>\n",
       "      <td>43</td>\n",
       "      <td>1873.5</td>\n",
       "      <td>3</td>\n",
       "      <td>3</td>\n",
       "      <td>5.0</td>\n",
       "      <td>0</td>\n",
       "      <td>1.72</td>\n",
       "      <td>31.333333</td>\n",
       "      <td>Cairo</td>\n",
       "      <td>2863.295221</td>\n",
       "      <td>1.924</td>\n",
       "    </tr>\n",
       "  </tbody>\n",
       "</table>\n",
       "</div>"
      ],
      "text/plain": [
       "       ID Type_of_AC  Model  Cooling_Capacity  Avg_Temp Room_SIze  Num_People  \\\n",
       "0  795823      Split    1.5           6579.15        43    1873.5           3   \n",
       "\n",
       "  Star_Rating  Age_of_Unit  Maintenance  Avg_Usage  Avg_AC_Temp   City  \\\n",
       "0           3          5.0            0       1.72    31.333333  Cairo   \n",
       "\n",
       "   Input_Power  Electricity_Consumption_AC  \n",
       "0  2863.295221                       1.924  "
      ]
     },
     "execution_count": 2,
     "metadata": {},
     "output_type": "execute_result"
    }
   ],
   "source": [
    "data = pd.read_csv('train.csv')\n",
    "test = pd.read_csv('test.csv')\n",
    "data.head(1)"
   ]
  },
  {
   "cell_type": "code",
   "execution_count": 3,
   "id": "672e24b4",
   "metadata": {},
   "outputs": [
    {
     "name": "stdout",
     "output_type": "stream",
     "text": [
      "shape of train data : (15000, 15) \n",
      "\n",
      "shape of test data : (5000, 14)\n"
     ]
    }
   ],
   "source": [
    "print(\"shape of train data :\", data.shape,'\\n')\n",
    "print('shape of test data :',test.shape)"
   ]
  },
  {
   "cell_type": "code",
   "execution_count": 4,
   "id": "93daa0a1",
   "metadata": {},
   "outputs": [
    {
     "name": "stdout",
     "output_type": "stream",
     "text": [
      "<class 'pandas.core.frame.DataFrame'>\n",
      "RangeIndex: 15000 entries, 0 to 14999\n",
      "Data columns (total 15 columns):\n",
      " #   Column                      Non-Null Count  Dtype  \n",
      "---  ------                      --------------  -----  \n",
      " 0   ID                          15000 non-null  int64  \n",
      " 1   Type_of_AC                  15000 non-null  object \n",
      " 2   Model                       14130 non-null  float64\n",
      " 3   Cooling_Capacity            15000 non-null  float64\n",
      " 4   Avg_Temp                    15000 non-null  int64  \n",
      " 5   Room_SIze                   13987 non-null  object \n",
      " 6   Num_People                  15000 non-null  int64  \n",
      " 7   Star_Rating                 14103 non-null  object \n",
      " 8   Age_of_Unit                 14018 non-null  float64\n",
      " 9   Maintenance                 15000 non-null  int64  \n",
      " 10  Avg_Usage                   15000 non-null  float64\n",
      " 11  Avg_AC_Temp                 15000 non-null  float64\n",
      " 12  City                        13480 non-null  object \n",
      " 13  Input_Power                 14287 non-null  object \n",
      " 14  Electricity_Consumption_AC  15000 non-null  float64\n",
      "dtypes: float64(6), int64(4), object(5)\n",
      "memory usage: 1.7+ MB\n"
     ]
    }
   ],
   "source": [
    "data.info()"
   ]
  },
  {
   "cell_type": "markdown",
   "id": "67c60955",
   "metadata": {},
   "source": [
    "For the following features in the dataset, we need to change their data types to better align with the intended data representation:\n",
    "\n",
    "-  `Input_Power`: The current data type is 'object', but it should be converted to 'float' for more precise numerical representation.\n",
    "\n",
    "-  `Room_SIze`: The current data type is 'object', and it should be changed to 'float' to accurately represent the room size as a decimal number.\n",
    "\n",
    "-  `Star_Rating`: Although the current data type is 'object', it should be transformed into an 'int' type to reflect the star rating as a whole number.\n",
    "\n",
    "-  `Age_of_Unit`: The current data type is 'object', but it should be converted to 'int' to represent the age of the unit as a whole number.\n",
    "\n",
    "By observing the data , some of the unwanted characters were present into the multiple columns which leading to change the datatype of that column to object, in further analysis we will solve this issue.\n",
    "\n",
    "#### Unwanted characters : $$ , .,blank,?,??,_...etc"
   ]
  },
  {
   "cell_type": "code",
   "execution_count": 5,
   "id": "e60e6536",
   "metadata": {},
   "outputs": [],
   "source": [
    "data_cheking = data.drop(['Type_of_AC','City'],axis=1)"
   ]
  },
  {
   "cell_type": "code",
   "execution_count": 6,
   "id": "c55f16e3",
   "metadata": {},
   "outputs": [
    {
     "name": "stdout",
     "output_type": "stream",
     "text": [
      "Columns with unwanted characters: {'Room_SIze': 16, 'Star_Rating': 21, 'Input_Power': 11}\n"
     ]
    }
   ],
   "source": [
    "#Checking for the unwanted characters from each column\n",
    "def is_float_or_int(s):\n",
    "    try:\n",
    "        float(s)\n",
    "        return True\n",
    "    except ValueError:\n",
    "        return False\n",
    "\n",
    "# Dictionary to store columns with unwanted characters and their counts\n",
    "columns_with_unwanted_chars = {}\n",
    "\n",
    "for column in data_cheking.columns:\n",
    "    # Initialize the count for this column\n",
    "    count = 0\n",
    "    \n",
    "    # Check each value in the column for unwanted characters\n",
    "    for value in data_cheking[column]:\n",
    "        if not is_float_or_int(str(value)):\n",
    "            # If a non-numeric value is found, increment the count\n",
    "            count += 1\n",
    "    \n",
    "    # If there are values with unwanted characters, store the column name and count\n",
    "    if count > 0:\n",
    "        columns_with_unwanted_chars[column] = count\n",
    "    \n",
    "# Print the columns with unwanted characters\n",
    "print(\"Columns with unwanted characters:\", columns_with_unwanted_chars)"
   ]
  },
  {
   "cell_type": "code",
   "execution_count": 7,
   "id": "ed068bdd",
   "metadata": {},
   "outputs": [],
   "source": [
    "###Replacing unwanted characters as null values\n",
    "# List of columns to check and replace unwanted characters\n",
    "columns_to_check = ['Room_SIze', 'Star_Rating', 'Input_Power']\n",
    "\n",
    "# Iterate through the specified columns\n",
    "for column in columns_to_check:\n",
    "    for index, value in enumerate(data[column]):\n",
    "        if not is_float_or_int(str(value)):\n",
    "            # If a non-numeric value is found, replace it with NaN\n",
    "            data.at[index, column] = np.nan"
   ]
  },
  {
   "cell_type": "code",
   "execution_count": 8,
   "id": "09ac4461",
   "metadata": {},
   "outputs": [
    {
     "name": "stdout",
     "output_type": "stream",
     "text": [
      "<class 'pandas.core.frame.DataFrame'>\n",
      "RangeIndex: 15000 entries, 0 to 14999\n",
      "Data columns (total 15 columns):\n",
      " #   Column                      Non-Null Count  Dtype  \n",
      "---  ------                      --------------  -----  \n",
      " 0   ID                          15000 non-null  int64  \n",
      " 1   Type_of_AC                  15000 non-null  object \n",
      " 2   Model                       14130 non-null  float64\n",
      " 3   Cooling_Capacity            15000 non-null  float64\n",
      " 4   Avg_Temp                    15000 non-null  int64  \n",
      " 5   Room_SIze                   13971 non-null  object \n",
      " 6   Num_People                  15000 non-null  int64  \n",
      " 7   Star_Rating                 14082 non-null  object \n",
      " 8   Age_of_Unit                 14018 non-null  float64\n",
      " 9   Maintenance                 15000 non-null  int64  \n",
      " 10  Avg_Usage                   15000 non-null  float64\n",
      " 11  Avg_AC_Temp                 15000 non-null  float64\n",
      " 12  City                        13480 non-null  object \n",
      " 13  Input_Power                 14276 non-null  object \n",
      " 14  Electricity_Consumption_AC  15000 non-null  float64\n",
      "dtypes: float64(6), int64(4), object(5)\n",
      "memory usage: 1.7+ MB\n"
     ]
    }
   ],
   "source": [
    "data.info()"
   ]
  },
  {
   "cell_type": "code",
   "execution_count": 9,
   "id": "93865e01",
   "metadata": {},
   "outputs": [],
   "source": [
    "#Change the datatype of ['Room_SIze', 'Star_Rating', 'Input_Power'] from object to int , (we removed all unwanted characters)\n",
    "data['Room_SIze'] = data['Room_SIze'].astype(float)\n",
    "data['Input_Power'] = data['Input_Power'].astype(float)\n",
    "data['Star_Rating'] = data['Star_Rating'].astype(float)"
   ]
  },
  {
   "cell_type": "code",
   "execution_count": 10,
   "id": "42e5322e",
   "metadata": {},
   "outputs": [
    {
     "data": {
      "text/plain": [
       "ID                               0\n",
       "Type_of_AC                       0\n",
       "Model                          870\n",
       "Cooling_Capacity                 0\n",
       "Avg_Temp                         0\n",
       "Room_SIze                     1029\n",
       "Num_People                       0\n",
       "Star_Rating                    918\n",
       "Age_of_Unit                    982\n",
       "Maintenance                      0\n",
       "Avg_Usage                        0\n",
       "Avg_AC_Temp                      0\n",
       "City                          1520\n",
       "Input_Power                    724\n",
       "Electricity_Consumption_AC       0\n",
       "dtype: int64"
      ]
     },
     "execution_count": 10,
     "metadata": {},
     "output_type": "execute_result"
    }
   ],
   "source": [
    "#Checking for the Missing Values\n",
    "data.isnull().sum()"
   ]
  },
  {
   "cell_type": "code",
   "execution_count": 11,
   "id": "6f8ee6c8",
   "metadata": {
    "scrolled": true
   },
   "outputs": [
    {
     "name": "stdout",
     "output_type": "stream",
     "text": [
      "ID                             0.00\n",
      "Type_of_AC                     0.00\n",
      "Model                          5.80\n",
      "Cooling_Capacity               0.00\n",
      "Avg_Temp                       0.00\n",
      "Room_SIze                      6.86\n",
      "Num_People                     0.00\n",
      "Star_Rating                    6.12\n",
      "Age_of_Unit                    6.55\n",
      "Maintenance                    0.00\n",
      "Avg_Usage                      0.00\n",
      "Avg_AC_Temp                    0.00\n",
      "City                          10.13\n",
      "Input_Power                    4.83\n",
      "Electricity_Consumption_AC     0.00\n",
      "dtype: float64\n"
     ]
    }
   ],
   "source": [
    "#Checking for the Missing Values percentage for each feature\n",
    "missing_percentage = (data.isnull().sum() / len(data)) * 100\n",
    "missing_percentage = missing_percentage.round(2)  # Round to two decimal places\n",
    "print(missing_percentage)"
   ]
  },
  {
   "cell_type": "markdown",
   "id": "e26378b5",
   "metadata": {},
   "source": [
    "### Exploring Missing Value features"
   ]
  },
  {
   "cell_type": "markdown",
   "id": "9ae999f7",
   "metadata": {},
   "source": [
    "#### 1.Model (Categorical Data - Bar Chart):"
   ]
  },
  {
   "cell_type": "code",
   "execution_count": 12,
   "id": "e712dfcd",
   "metadata": {},
   "outputs": [
    {
     "name": "stdout",
     "output_type": "stream",
     "text": [
      "missing value % of Model is : 5.80\n"
     ]
    },
    {
     "data": {
      "image/png": "[encoded data removed]",
      "text/plain": [
       "<Figure size 1000x600 with 1 Axes>"
      ]
     },
     "metadata": {},
     "output_type": "display_data"
    }
   ],
   "source": [
    "plt.figure(figsize=(10, 6))\n",
    "model_counts = data['Model'].value_counts().sort_values(ascending=False)\n",
    "sns.barplot(x=model_counts.index, y=model_counts.values, order=model_counts.index)\n",
    "plt.xticks(rotation=90)\n",
    "plt.title('Distribution of Model')\n",
    "plt.xlabel('Model')\n",
    "plt.ylabel('Count')\n",
    "\n",
    "#Missing value %\n",
    "print(\"missing value % of Model is : 5.80\")\n",
    "plt.show()"
   ]
  },
  {
   "cell_type": "markdown",
   "id": "9d10a650",
   "metadata": {},
   "source": [
    "#### 2.Star_Rating (Categorical Data - Bar Chart in Descending Order):"
   ]
  },
  {
   "cell_type": "code",
   "execution_count": 13,
   "id": "b40a9ea2",
   "metadata": {},
   "outputs": [
    {
     "data": {
      "image/png": "[encoded data removed]",
      "text/plain": [
       "<Figure size 600x400 with 1 Axes>"
      ]
     },
     "metadata": {},
     "output_type": "display_data"
    }
   ],
   "source": [
    "plt.figure(figsize=(6, 4))\n",
    "star_rating_counts = data['Star_Rating'].value_counts().sort_values(ascending=False)\n",
    "sns.barplot(x=star_rating_counts.index, y=star_rating_counts.values, order=star_rating_counts.index)\n",
    "plt.title('Distribution of Star Rating')\n",
    "plt.xlabel('Star Rating')\n",
    "plt.ylabel('Count')\n",
    "plt.show()"
   ]
  },
  {
   "cell_type": "markdown",
   "id": "95824e7f",
   "metadata": {},
   "source": [
    "#### 4.City (Categorical Data - Bar Chart in Descending Order):"
   ]
  },
  {
   "cell_type": "code",
   "execution_count": 14,
   "id": "3019615c",
   "metadata": {},
   "outputs": [
    {
     "data": {
      "image/png": "[encoded data removed]",
      "text/plain": [
       "<Figure size 1000x600 with 1 Axes>"
      ]
     },
     "metadata": {},
     "output_type": "display_data"
    }
   ],
   "source": [
    "plt.figure(figsize=(10, 6))\n",
    "city_counts = data['City'].value_counts().sort_values(ascending=False)\n",
    "sns.barplot(x=city_counts.index, y=city_counts.values, order=city_counts.index)\n",
    "plt.xticks(rotation=90)\n",
    "plt.title('Distribution of City')\n",
    "plt.xlabel('City')\n",
    "plt.ylabel('Count')\n",
    "plt.show()"
   ]
  },
  {
   "cell_type": "code",
   "execution_count": 15,
   "id": "7fac17e3",
   "metadata": {},
   "outputs": [
    {
     "name": "stdout",
     "output_type": "stream",
     "text": [
      "<class 'pandas.core.frame.DataFrame'>\n",
      "RangeIndex: 15000 entries, 0 to 14999\n",
      "Data columns (total 15 columns):\n",
      " #   Column                      Non-Null Count  Dtype  \n",
      "---  ------                      --------------  -----  \n",
      " 0   ID                          15000 non-null  int64  \n",
      " 1   Type_of_AC                  15000 non-null  object \n",
      " 2   Model                       14130 non-null  float64\n",
      " 3   Cooling_Capacity            15000 non-null  float64\n",
      " 4   Avg_Temp                    15000 non-null  int64  \n",
      " 5   Room_SIze                   13971 non-null  float64\n",
      " 6   Num_People                  15000 non-null  int64  \n",
      " 7   Star_Rating                 14082 non-null  float64\n",
      " 8   Age_of_Unit                 14018 non-null  float64\n",
      " 9   Maintenance                 15000 non-null  int64  \n",
      " 10  Avg_Usage                   15000 non-null  float64\n",
      " 11  Avg_AC_Temp                 15000 non-null  float64\n",
      " 12  City                        13480 non-null  object \n",
      " 13  Input_Power                 14276 non-null  float64\n",
      " 14  Electricity_Consumption_AC  15000 non-null  float64\n",
      "dtypes: float64(9), int64(4), object(2)\n",
      "memory usage: 1.7+ MB\n"
     ]
    }
   ],
   "source": [
    "data.info()"
   ]
  },
  {
   "cell_type": "markdown",
   "id": "f8790d04",
   "metadata": {},
   "source": [
    "### Imputation of Missing Values"
   ]
  },
  {
   "cell_type": "markdown",
   "id": "dc345942",
   "metadata": {},
   "source": [
    "- Note : We tried to drop the Missing values which leads to loss of data around 33.33%, which is not a good approach. \n",
    "So we are imputing missing values with central tendancies based on time consumption.\n",
    "    "
   ]
  },
  {
   "cell_type": "code",
   "execution_count": 16,
   "id": "01be9217",
   "metadata": {},
   "outputs": [],
   "source": [
    "data['Model'].fillna(data['Model'].mode()[0], inplace=True)\n",
    "data['Room_SIze'].fillna(data['Room_SIze'].median(), inplace=True)\n",
    "data['Star_Rating'].fillna(data['Star_Rating'].mode()[0], inplace=True)\n",
    "data['Age_of_Unit'].fillna(data['Age_of_Unit'].median(), inplace=True)\n",
    "data['City'].fillna(data['City'].mode()[0], inplace=True)\n",
    "data['Input_Power'].fillna(data['Input_Power'].median(), inplace=True)"
   ]
  },
  {
   "cell_type": "code",
   "execution_count": 17,
   "id": "c0b8ad51",
   "metadata": {},
   "outputs": [
    {
     "data": {
      "text/plain": [
       "ID                            0\n",
       "Type_of_AC                    0\n",
       "Model                         0\n",
       "Cooling_Capacity              0\n",
       "Avg_Temp                      0\n",
       "Room_SIze                     0\n",
       "Num_People                    0\n",
       "Star_Rating                   0\n",
       "Age_of_Unit                   0\n",
       "Maintenance                   0\n",
       "Avg_Usage                     0\n",
       "Avg_AC_Temp                   0\n",
       "City                          0\n",
       "Input_Power                   0\n",
       "Electricity_Consumption_AC    0\n",
       "dtype: int64"
      ]
     },
     "execution_count": 17,
     "metadata": {},
     "output_type": "execute_result"
    }
   ],
   "source": [
    "#Printing the missing values\n",
    "data.isnull().sum()"
   ]
  },
  {
   "cell_type": "code",
   "execution_count": 18,
   "id": "fa125f62",
   "metadata": {},
   "outputs": [
    {
     "name": "stdout",
     "output_type": "stream",
     "text": [
      "No duplicates found.\n"
     ]
    }
   ],
   "source": [
    "# Check for duplicate rows\n",
    "duplicate_rows = data.duplicated()\n",
    "if duplicate_rows.any():\n",
    "    print(\"Duplicate rows found!\")\n",
    "    duplicate_row_count = duplicate_rows.sum()\n",
    "    print(\"Number of duplicate rows:\", duplicate_row_count)\n",
    "    duplicate_row_indices = data[duplicate_rows].index\n",
    "    print(\"Indices of duplicate rows:\", duplicate_row_indices)\n",
    "else:\n",
    "    print(\"No duplicates found.\")"
   ]
  },
  {
   "cell_type": "markdown",
   "id": "2359800b",
   "metadata": {},
   "source": [
    "###  Correlation"
   ]
  },
  {
   "cell_type": "code",
   "execution_count": 19,
   "id": "25339b0a",
   "metadata": {},
   "outputs": [
    {
     "data": {
      "text/html": [
       "<div>\n",
       "<style scoped>\n",
       "    .dataframe tbody tr th:only-of-type {\n",
       "        vertical-align: middle;\n",
       "    }\n",
       "\n",
       "    .dataframe tbody tr th {\n",
       "        vertical-align: top;\n",
       "    }\n",
       "\n",
       "    .dataframe thead th {\n",
       "        text-align: right;\n",
       "    }\n",
       "</style>\n",
       "<table border=\"1\" class=\"dataframe\">\n",
       "  <thead>\n",
       "    <tr style=\"text-align: right;\">\n",
       "      <th></th>\n",
       "      <th>ID</th>\n",
       "      <th>Model</th>\n",
       "      <th>Cooling_Capacity</th>\n",
       "      <th>Avg_Temp</th>\n",
       "      <th>Room_SIze</th>\n",
       "      <th>Num_People</th>\n",
       "      <th>Star_Rating</th>\n",
       "      <th>Age_of_Unit</th>\n",
       "      <th>Maintenance</th>\n",
       "      <th>Avg_Usage</th>\n",
       "      <th>Avg_AC_Temp</th>\n",
       "      <th>Input_Power</th>\n",
       "      <th>Electricity_Consumption_AC</th>\n",
       "    </tr>\n",
       "  </thead>\n",
       "  <tbody>\n",
       "    <tr>\n",
       "      <th>ID</th>\n",
       "      <td>1.000000</td>\n",
       "      <td>-0.002271</td>\n",
       "      <td>0.004613</td>\n",
       "      <td>-0.000388</td>\n",
       "      <td>0.006609</td>\n",
       "      <td>-0.003925</td>\n",
       "      <td>0.006203</td>\n",
       "      <td>0.003226</td>\n",
       "      <td>-0.002489</td>\n",
       "      <td>0.003372</td>\n",
       "      <td>-0.006406</td>\n",
       "      <td>0.001495</td>\n",
       "      <td>-0.004102</td>\n",
       "    </tr>\n",
       "    <tr>\n",
       "      <th>Model</th>\n",
       "      <td>-0.002271</td>\n",
       "      <td>1.000000</td>\n",
       "      <td>0.045812</td>\n",
       "      <td>0.005495</td>\n",
       "      <td>0.003185</td>\n",
       "      <td>0.232444</td>\n",
       "      <td>0.004561</td>\n",
       "      <td>0.011305</td>\n",
       "      <td>0.007385</td>\n",
       "      <td>-0.000693</td>\n",
       "      <td>-0.189231</td>\n",
       "      <td>0.001346</td>\n",
       "      <td>0.268828</td>\n",
       "    </tr>\n",
       "    <tr>\n",
       "      <th>Cooling_Capacity</th>\n",
       "      <td>0.004613</td>\n",
       "      <td>0.045812</td>\n",
       "      <td>1.000000</td>\n",
       "      <td>-0.005778</td>\n",
       "      <td>0.005332</td>\n",
       "      <td>0.042525</td>\n",
       "      <td>-0.002363</td>\n",
       "      <td>-0.007889</td>\n",
       "      <td>0.003462</td>\n",
       "      <td>-0.001973</td>\n",
       "      <td>-0.023029</td>\n",
       "      <td>-0.018799</td>\n",
       "      <td>0.313614</td>\n",
       "    </tr>\n",
       "    <tr>\n",
       "      <th>Avg_Temp</th>\n",
       "      <td>-0.000388</td>\n",
       "      <td>0.005495</td>\n",
       "      <td>-0.005778</td>\n",
       "      <td>1.000000</td>\n",
       "      <td>-0.004346</td>\n",
       "      <td>0.002126</td>\n",
       "      <td>0.013797</td>\n",
       "      <td>0.000478</td>\n",
       "      <td>-0.009124</td>\n",
       "      <td>0.159110</td>\n",
       "      <td>0.101801</td>\n",
       "      <td>0.007894</td>\n",
       "      <td>0.255194</td>\n",
       "    </tr>\n",
       "    <tr>\n",
       "      <th>Room_SIze</th>\n",
       "      <td>0.006609</td>\n",
       "      <td>0.003185</td>\n",
       "      <td>0.005332</td>\n",
       "      <td>-0.004346</td>\n",
       "      <td>1.000000</td>\n",
       "      <td>-0.000146</td>\n",
       "      <td>-0.000115</td>\n",
       "      <td>0.002384</td>\n",
       "      <td>-0.003638</td>\n",
       "      <td>0.002938</td>\n",
       "      <td>0.005062</td>\n",
       "      <td>-0.000200</td>\n",
       "      <td>0.005312</td>\n",
       "    </tr>\n",
       "    <tr>\n",
       "      <th>Num_People</th>\n",
       "      <td>-0.003925</td>\n",
       "      <td>0.232444</td>\n",
       "      <td>0.042525</td>\n",
       "      <td>0.002126</td>\n",
       "      <td>-0.000146</td>\n",
       "      <td>1.000000</td>\n",
       "      <td>0.002637</td>\n",
       "      <td>-0.001191</td>\n",
       "      <td>0.003025</td>\n",
       "      <td>0.006261</td>\n",
       "      <td>-0.325061</td>\n",
       "      <td>-0.001919</td>\n",
       "      <td>0.263947</td>\n",
       "    </tr>\n",
       "    <tr>\n",
       "      <th>Star_Rating</th>\n",
       "      <td>0.006203</td>\n",
       "      <td>0.004561</td>\n",
       "      <td>-0.002363</td>\n",
       "      <td>0.013797</td>\n",
       "      <td>-0.000115</td>\n",
       "      <td>0.002637</td>\n",
       "      <td>1.000000</td>\n",
       "      <td>-0.000028</td>\n",
       "      <td>0.004410</td>\n",
       "      <td>-0.008756</td>\n",
       "      <td>-0.004903</td>\n",
       "      <td>-0.000115</td>\n",
       "      <td>0.002536</td>\n",
       "    </tr>\n",
       "    <tr>\n",
       "      <th>Age_of_Unit</th>\n",
       "      <td>0.003226</td>\n",
       "      <td>0.011305</td>\n",
       "      <td>-0.007889</td>\n",
       "      <td>0.000478</td>\n",
       "      <td>0.002384</td>\n",
       "      <td>-0.001191</td>\n",
       "      <td>-0.000028</td>\n",
       "      <td>1.000000</td>\n",
       "      <td>0.010515</td>\n",
       "      <td>-0.001274</td>\n",
       "      <td>-0.007294</td>\n",
       "      <td>0.014547</td>\n",
       "      <td>0.213117</td>\n",
       "    </tr>\n",
       "    <tr>\n",
       "      <th>Maintenance</th>\n",
       "      <td>-0.002489</td>\n",
       "      <td>0.007385</td>\n",
       "      <td>0.003462</td>\n",
       "      <td>-0.009124</td>\n",
       "      <td>-0.003638</td>\n",
       "      <td>0.003025</td>\n",
       "      <td>0.004410</td>\n",
       "      <td>0.010515</td>\n",
       "      <td>1.000000</td>\n",
       "      <td>-0.001410</td>\n",
       "      <td>-0.007717</td>\n",
       "      <td>0.007638</td>\n",
       "      <td>0.211604</td>\n",
       "    </tr>\n",
       "    <tr>\n",
       "      <th>Avg_Usage</th>\n",
       "      <td>0.003372</td>\n",
       "      <td>-0.000693</td>\n",
       "      <td>-0.001973</td>\n",
       "      <td>0.159110</td>\n",
       "      <td>0.002938</td>\n",
       "      <td>0.006261</td>\n",
       "      <td>-0.008756</td>\n",
       "      <td>-0.001274</td>\n",
       "      <td>-0.001410</td>\n",
       "      <td>1.000000</td>\n",
       "      <td>0.008320</td>\n",
       "      <td>-0.004825</td>\n",
       "      <td>0.162492</td>\n",
       "    </tr>\n",
       "    <tr>\n",
       "      <th>Avg_AC_Temp</th>\n",
       "      <td>-0.006406</td>\n",
       "      <td>-0.189231</td>\n",
       "      <td>-0.023029</td>\n",
       "      <td>0.101801</td>\n",
       "      <td>0.005062</td>\n",
       "      <td>-0.325061</td>\n",
       "      <td>-0.004903</td>\n",
       "      <td>-0.007294</td>\n",
       "      <td>-0.007717</td>\n",
       "      <td>0.008320</td>\n",
       "      <td>1.000000</td>\n",
       "      <td>0.009344</td>\n",
       "      <td>-0.160030</td>\n",
       "    </tr>\n",
       "    <tr>\n",
       "      <th>Input_Power</th>\n",
       "      <td>0.001495</td>\n",
       "      <td>0.001346</td>\n",
       "      <td>-0.018799</td>\n",
       "      <td>0.007894</td>\n",
       "      <td>-0.000200</td>\n",
       "      <td>-0.001919</td>\n",
       "      <td>-0.000115</td>\n",
       "      <td>0.014547</td>\n",
       "      <td>0.007638</td>\n",
       "      <td>-0.004825</td>\n",
       "      <td>0.009344</td>\n",
       "      <td>1.000000</td>\n",
       "      <td>0.004490</td>\n",
       "    </tr>\n",
       "    <tr>\n",
       "      <th>Electricity_Consumption_AC</th>\n",
       "      <td>-0.004102</td>\n",
       "      <td>0.268828</td>\n",
       "      <td>0.313614</td>\n",
       "      <td>0.255194</td>\n",
       "      <td>0.005312</td>\n",
       "      <td>0.263947</td>\n",
       "      <td>0.002536</td>\n",
       "      <td>0.213117</td>\n",
       "      <td>0.211604</td>\n",
       "      <td>0.162492</td>\n",
       "      <td>-0.160030</td>\n",
       "      <td>0.004490</td>\n",
       "      <td>1.000000</td>\n",
       "    </tr>\n",
       "  </tbody>\n",
       "</table>\n",
       "</div>"
      ],
      "text/plain": [
       "                                  ID     Model  Cooling_Capacity  Avg_Temp  \\\n",
       "ID                          1.000000 -0.002271          0.004613 -0.000388   \n",
       "Model                      -0.002271  1.000000          0.045812  0.005495   \n",
       "Cooling_Capacity            0.004613  0.045812          1.000000 -0.005778   \n",
       "Avg_Temp                   -0.000388  0.005495         -0.005778  1.000000   \n",
       "Room_SIze                   0.006609  0.003185          0.005332 -0.004346   \n",
       "Num_People                 -0.003925  0.232444          0.042525  0.002126   \n",
       "Star_Rating                 0.006203  0.004561         -0.002363  0.013797   \n",
       "Age_of_Unit                 0.003226  0.011305         -0.007889  0.000478   \n",
       "Maintenance                -0.002489  0.007385          0.003462 -0.009124   \n",
       "Avg_Usage                   0.003372 -0.000693         -0.001973  0.159110   \n",
       "Avg_AC_Temp                -0.006406 -0.189231         -0.023029  0.101801   \n",
       "Input_Power                 0.001495  0.001346         -0.018799  0.007894   \n",
       "Electricity_Consumption_AC -0.004102  0.268828          0.313614  0.255194   \n",
       "\n",
       "                            Room_SIze  Num_People  Star_Rating  Age_of_Unit  \\\n",
       "ID                           0.006609   -0.003925     0.006203     0.003226   \n",
       "Model                        0.003185    0.232444     0.004561     0.011305   \n",
       "Cooling_Capacity             0.005332    0.042525    -0.002363    -0.007889   \n",
       "Avg_Temp                    -0.004346    0.002126     0.013797     0.000478   \n",
       "Room_SIze                    1.000000   -0.000146    -0.000115     0.002384   \n",
       "Num_People                  -0.000146    1.000000     0.002637    -0.001191   \n",
       "Star_Rating                 -0.000115    0.002637     1.000000    -0.000028   \n",
       "Age_of_Unit                  0.002384   -0.001191    -0.000028     1.000000   \n",
       "Maintenance                 -0.003638    0.003025     0.004410     0.010515   \n",
       "Avg_Usage                    0.002938    0.006261    -0.008756    -0.001274   \n",
       "Avg_AC_Temp                  0.005062   -0.325061    -0.004903    -0.007294   \n",
       "Input_Power                 -0.000200   -0.001919    -0.000115     0.014547   \n",
       "Electricity_Consumption_AC   0.005312    0.263947     0.002536     0.213117   \n",
       "\n",
       "                            Maintenance  Avg_Usage  Avg_AC_Temp  Input_Power  \\\n",
       "ID                            -0.002489   0.003372    -0.006406     0.001495   \n",
       "Model                          0.007385  -0.000693    -0.189231     0.001346   \n",
       "Cooling_Capacity               0.003462  -0.001973    -0.023029    -0.018799   \n",
       "Avg_Temp                      -0.009124   0.159110     0.101801     0.007894   \n",
       "Room_SIze                     -0.003638   0.002938     0.005062    -0.000200   \n",
       "Num_People                     0.003025   0.006261    -0.325061    -0.001919   \n",
       "Star_Rating                    0.004410  -0.008756    -0.004903    -0.000115   \n",
       "Age_of_Unit                    0.010515  -0.001274    -0.007294     0.014547   \n",
       "Maintenance                    1.000000  -0.001410    -0.007717     0.007638   \n",
       "Avg_Usage                     -0.001410   1.000000     0.008320    -0.004825   \n",
       "Avg_AC_Temp                   -0.007717   0.008320     1.000000     0.009344   \n",
       "Input_Power                    0.007638  -0.004825     0.009344     1.000000   \n",
       "Electricity_Consumption_AC     0.211604   0.162492    -0.160030     0.004490   \n",
       "\n",
       "                            Electricity_Consumption_AC  \n",
       "ID                                           -0.004102  \n",
       "Model                                         0.268828  \n",
       "Cooling_Capacity                              0.313614  \n",
       "Avg_Temp                                      0.255194  \n",
       "Room_SIze                                     0.005312  \n",
       "Num_People                                    0.263947  \n",
       "Star_Rating                                   0.002536  \n",
       "Age_of_Unit                                   0.213117  \n",
       "Maintenance                                   0.211604  \n",
       "Avg_Usage                                     0.162492  \n",
       "Avg_AC_Temp                                  -0.160030  \n",
       "Input_Power                                   0.004490  \n",
       "Electricity_Consumption_AC                    1.000000  "
      ]
     },
     "execution_count": 19,
     "metadata": {},
     "output_type": "execute_result"
    }
   ],
   "source": [
    "corr_matrix = data.corr()\n",
    "corr_matrix"
   ]
  },
  {
   "cell_type": "code",
   "execution_count": 20,
   "id": "2cf2b5c3",
   "metadata": {},
   "outputs": [
    {
     "data": {
      "image/png": "[encoded data removed]",
      "text/plain": [
       "<Figure size 1200x1000 with 2 Axes>"
      ]
     },
     "metadata": {},
     "output_type": "display_data"
    }
   ],
   "source": [
    "# Increase the cell size by adjusting the figure size\n",
    "plt.figure(figsize=(12, 10))\n",
    "\n",
    "# Create a heatmap with larger cells\n",
    "sns.heatmap(corr_matrix, annot=True, cmap='coolwarm', linewidths=0.5, annot_kws={\"size\": 8})\n",
    "\n",
    "plt.title('Correlation Matrix Heatmap with Larger Cells')\n",
    "plt.show()\n"
   ]
  },
  {
   "cell_type": "markdown",
   "id": "3e9034ab",
   "metadata": {},
   "source": [
    "# 3. Feature Engineering"
   ]
  },
  {
   "cell_type": "markdown",
   "id": "8e181a4a",
   "metadata": {},
   "source": [
    "#### Seperating feture and label"
   ]
  },
  {
   "cell_type": "code",
   "execution_count": 21,
   "id": "5cca1338",
   "metadata": {},
   "outputs": [],
   "source": [
    "X_data = data.drop(['Electricity_Consumption_AC','ID'],axis=1)\n",
    "y = data['Electricity_Consumption_AC']\n",
    "\n",
    "test_data = test.copy()\n",
    "test_data = test.drop('ID',axis=1)"
   ]
  },
  {
   "cell_type": "markdown",
   "id": "4f274132",
   "metadata": {},
   "source": [
    "### 1.Label Encoding"
   ]
  },
  {
   "cell_type": "code",
   "execution_count": 22,
   "id": "704ad023",
   "metadata": {},
   "outputs": [
    {
     "data": {
      "text/html": [
       "<div>\n",
       "<style scoped>\n",
       "    .dataframe tbody tr th:only-of-type {\n",
       "        vertical-align: middle;\n",
       "    }\n",
       "\n",
       "    .dataframe tbody tr th {\n",
       "        vertical-align: top;\n",
       "    }\n",
       "\n",
       "    .dataframe thead th {\n",
       "        text-align: right;\n",
       "    }\n",
       "</style>\n",
       "<table border=\"1\" class=\"dataframe\">\n",
       "  <thead>\n",
       "    <tr style=\"text-align: right;\">\n",
       "      <th></th>\n",
       "      <th>Type_of_AC</th>\n",
       "      <th>City</th>\n",
       "    </tr>\n",
       "  </thead>\n",
       "  <tbody>\n",
       "    <tr>\n",
       "      <th>0</th>\n",
       "      <td>Portable</td>\n",
       "      <td>Moscow</td>\n",
       "    </tr>\n",
       "  </tbody>\n",
       "</table>\n",
       "</div>"
      ],
      "text/plain": [
       "  Type_of_AC    City\n",
       "0   Portable  Moscow"
      ]
     },
     "execution_count": 22,
     "metadata": {},
     "output_type": "execute_result"
    }
   ],
   "source": [
    "# Grouping categorical Features in Train Data\n",
    "Train_DF_cat = X_data.select_dtypes(exclude=['int64', 'float64', 'int32'])\n",
    "Train_DF_num = X_data.select_dtypes(include=['int64', 'float64', 'int32'])\n",
    "Train_DF_cat.head(1)\n",
    "\n",
    "# Grouping categorical Features in Train Data\n",
    "Test_DF_cat = test_data.select_dtypes(exclude=['int64', 'float64', 'int32'])\n",
    "Test_DF_num = test_data.select_dtypes(include=['int64', 'float64', 'int32'])\n",
    "Test_DF_cat.head(1)"
   ]
  },
  {
   "cell_type": "code",
   "execution_count": 23,
   "id": "bd4c9983",
   "metadata": {},
   "outputs": [
    {
     "data": {
      "text/html": [
       "<div>\n",
       "<style scoped>\n",
       "    .dataframe tbody tr th:only-of-type {\n",
       "        vertical-align: middle;\n",
       "    }\n",
       "\n",
       "    .dataframe tbody tr th {\n",
       "        vertical-align: top;\n",
       "    }\n",
       "\n",
       "    .dataframe thead th {\n",
       "        text-align: right;\n",
       "    }\n",
       "</style>\n",
       "<table border=\"1\" class=\"dataframe\">\n",
       "  <thead>\n",
       "    <tr style=\"text-align: right;\">\n",
       "      <th></th>\n",
       "      <th>Type_of_AC</th>\n",
       "      <th>City</th>\n",
       "    </tr>\n",
       "  </thead>\n",
       "  <tbody>\n",
       "    <tr>\n",
       "      <th>0</th>\n",
       "      <td>Split</td>\n",
       "      <td>Cairo</td>\n",
       "    </tr>\n",
       "  </tbody>\n",
       "</table>\n",
       "</div>"
      ],
      "text/plain": [
       "  Type_of_AC   City\n",
       "0      Split  Cairo"
      ]
     },
     "execution_count": 23,
     "metadata": {},
     "output_type": "execute_result"
    }
   ],
   "source": [
    "Train_DF_cat.head(1)"
   ]
  },
  {
   "cell_type": "code",
   "execution_count": 24,
   "id": "18779b41",
   "metadata": {},
   "outputs": [],
   "source": [
    "combined_data_type= pd.concat([Train_DF_cat['Type_of_AC'], Test_DF_cat['Type_of_AC']], axis=0)\n",
    "combined_data_city= pd.concat([Train_DF_cat['City'], Test_DF_cat['City']], axis=0)"
   ]
  },
  {
   "cell_type": "code",
   "execution_count": 25,
   "id": "cc5f4af9",
   "metadata": {},
   "outputs": [],
   "source": [
    "# Initialize and fit the label encoder on combined data\n",
    "label_encoder = LabelEncoder()\n",
    "combined_data_type=label_encoder.fit(combined_data_type)\n",
    "Train_DF_cat['Type_of_AC'] = combined_data_type.transform(Train_DF_cat['Type_of_AC'])\n",
    "Test_DF_cat['Type_of_AC'] =  combined_data_type.transform(Test_DF_cat['Type_of_AC'])\n",
    "\n",
    "combined_data_city=label_encoder.fit(combined_data_city)\n",
    "Train_DF_cat['City'] = combined_data_city.transform(Train_DF_cat['City'])\n",
    "Test_DF_cat['City'] = combined_data_city.transform(Test_DF_cat['City'])"
   ]
  },
  {
   "cell_type": "code",
   "execution_count": 26,
   "id": "d066c5a5",
   "metadata": {},
   "outputs": [
    {
     "data": {
      "text/html": [
       "<div>\n",
       "<style scoped>\n",
       "    .dataframe tbody tr th:only-of-type {\n",
       "        vertical-align: middle;\n",
       "    }\n",
       "\n",
       "    .dataframe tbody tr th {\n",
       "        vertical-align: top;\n",
       "    }\n",
       "\n",
       "    .dataframe thead th {\n",
       "        text-align: right;\n",
       "    }\n",
       "</style>\n",
       "<table border=\"1\" class=\"dataframe\">\n",
       "  <thead>\n",
       "    <tr style=\"text-align: right;\">\n",
       "      <th></th>\n",
       "      <th>Type_of_AC</th>\n",
       "      <th>City</th>\n",
       "      <th>Model</th>\n",
       "      <th>Cooling_Capacity</th>\n",
       "      <th>Avg_Temp</th>\n",
       "      <th>Room_SIze</th>\n",
       "      <th>Num_People</th>\n",
       "      <th>Star_Rating</th>\n",
       "      <th>Age_of_Unit</th>\n",
       "      <th>Maintenance</th>\n",
       "      <th>Avg_Usage</th>\n",
       "      <th>Avg_AC_Temp</th>\n",
       "      <th>Input_Power</th>\n",
       "    </tr>\n",
       "  </thead>\n",
       "  <tbody>\n",
       "    <tr>\n",
       "      <th>0</th>\n",
       "      <td>2</td>\n",
       "      <td>2</td>\n",
       "      <td>1.5</td>\n",
       "      <td>6579.15</td>\n",
       "      <td>43</td>\n",
       "      <td>1873.5</td>\n",
       "      <td>3</td>\n",
       "      <td>3.0</td>\n",
       "      <td>5.0</td>\n",
       "      <td>0</td>\n",
       "      <td>1.72</td>\n",
       "      <td>31.333333</td>\n",
       "      <td>2863.295221</td>\n",
       "    </tr>\n",
       "  </tbody>\n",
       "</table>\n",
       "</div>"
      ],
      "text/plain": [
       "   Type_of_AC  City  Model  Cooling_Capacity  Avg_Temp  Room_SIze  Num_People  \\\n",
       "0           2     2    1.5           6579.15        43     1873.5           3   \n",
       "\n",
       "   Star_Rating  Age_of_Unit  Maintenance  Avg_Usage  Avg_AC_Temp  Input_Power  \n",
       "0          3.0          5.0            0       1.72    31.333333  2863.295221  "
      ]
     },
     "execution_count": 26,
     "metadata": {},
     "output_type": "execute_result"
    }
   ],
   "source": [
    "# Concatanating the Train catagorical data and numberical data after encoding catagorical features.\n",
    "Train_Data_encoded = pd.concat([Train_DF_cat, Train_DF_num], axis=1)\n",
    "Test_Data_encoded = pd.concat([Test_DF_cat, Test_DF_num], axis=1)\n",
    "Train_Data_encoded.head(1)"
   ]
  },
  {
   "cell_type": "code",
   "execution_count": 27,
   "id": "6ea41347",
   "metadata": {},
   "outputs": [
    {
     "name": "stdout",
     "output_type": "stream",
     "text": [
      "shape of train data : (15000, 13) \n",
      "\n",
      "shape of test data : (5000, 13)\n"
     ]
    }
   ],
   "source": [
    "#printing the shape of bith the data train and test\n",
    "print(\"shape of train data :\",Train_Data_encoded.shape,'\\n')\n",
    "print(\"shape of test data :\",Test_Data_encoded.shape)"
   ]
  },
  {
   "cell_type": "markdown",
   "id": "c0dad8bf",
   "metadata": {},
   "source": [
    "### 2.Feature Scaling"
   ]
  },
  {
   "cell_type": "code",
   "execution_count": 28,
   "id": "39208e18",
   "metadata": {},
   "outputs": [],
   "source": [
    "# Scaling Train and Test Data\n",
    "Train_DF_scaled = Train_Data_encoded\n",
    "Test_DF_scaled = Test_Data_encoded\n",
    "\n",
    "# Standardization of Train and Test Data\n",
    "scaler = StandardScaler()\n",
    "scaled_data = scaler.fit_transform(Train_DF_scaled)\n",
    "Train_DF_scaled = pd.DataFrame(scaled_data, columns=Train_DF_scaled.columns)\n",
    "\n",
    "#scaler = StandardScaler()\n",
    "scaled_test_data = scaler.transform(Test_DF_scaled)\n",
    "Test_DF_scaled = pd.DataFrame(scaled_test_data, columns=Test_DF_scaled.columns)"
   ]
  },
  {
   "cell_type": "code",
   "execution_count": 29,
   "id": "50fcfb0e",
   "metadata": {},
   "outputs": [
    {
     "name": "stdout",
     "output_type": "stream",
     "text": [
      "shape of train data after standerdization : (15000, 13) \n",
      "\n",
      "shape of test data after standerdization : (5000, 13)\n"
     ]
    }
   ],
   "source": [
    "#printing the shape of bith the data train and test\n",
    "print(\"shape of train data after standerdization :\",Train_DF_scaled.shape,'\\n')\n",
    "print(\"shape of test data after standerdization :\",Test_DF_scaled.shape)"
   ]
  },
  {
   "cell_type": "markdown",
   "id": "b1cc40b8",
   "metadata": {},
   "source": [
    "### Splitting the train data into train and test accuracy"
   ]
  },
  {
   "cell_type": "code",
   "execution_count": 30,
   "id": "b253fef2",
   "metadata": {},
   "outputs": [],
   "source": [
    "from sklearn.model_selection import train_test_split\n",
    "X_train, X_test, y_train, y_test = train_test_split(Train_DF_scaled,y,test_size=0.20,random_state=42)"
   ]
  },
  {
   "cell_type": "code",
   "execution_count": 31,
   "id": "bd2a2227",
   "metadata": {},
   "outputs": [
    {
     "name": "stdout",
     "output_type": "stream",
     "text": [
      "x_train shape : (12000, 13) \n",
      "\n",
      "y_train shape : (12000,) \n",
      "\n",
      "X_test shape : (3000, 13) \n",
      "\n",
      "y_test shape : (3000,) \n",
      "\n"
     ]
    }
   ],
   "source": [
    "print('x_train shape :',X_train.shape,'\\n')\n",
    "print('y_train shape :',y_train.shape,'\\n')\n",
    "print('X_test shape :',X_test.shape,'\\n')\n",
    "print('y_test shape :',y_test.shape,'\\n')"
   ]
  },
  {
   "cell_type": "code",
   "execution_count": 32,
   "id": "d6d10a6a",
   "metadata": {},
   "outputs": [
    {
     "data": {
      "text/html": [
       "<div>\n",
       "<style scoped>\n",
       "    .dataframe tbody tr th:only-of-type {\n",
       "        vertical-align: middle;\n",
       "    }\n",
       "\n",
       "    .dataframe tbody tr th {\n",
       "        vertical-align: top;\n",
       "    }\n",
       "\n",
       "    .dataframe thead th {\n",
       "        text-align: right;\n",
       "    }\n",
       "</style>\n",
       "<table border=\"1\" class=\"dataframe\">\n",
       "  <thead>\n",
       "    <tr style=\"text-align: right;\">\n",
       "      <th></th>\n",
       "      <th>Type_of_AC</th>\n",
       "      <th>City</th>\n",
       "      <th>Model</th>\n",
       "      <th>Cooling_Capacity</th>\n",
       "      <th>Avg_Temp</th>\n",
       "      <th>Room_SIze</th>\n",
       "      <th>Num_People</th>\n",
       "      <th>Star_Rating</th>\n",
       "      <th>Age_of_Unit</th>\n",
       "      <th>Maintenance</th>\n",
       "      <th>Avg_Usage</th>\n",
       "      <th>Avg_AC_Temp</th>\n",
       "      <th>Input_Power</th>\n",
       "    </tr>\n",
       "  </thead>\n",
       "  <tbody>\n",
       "    <tr>\n",
       "      <th>9839</th>\n",
       "      <td>-0.440323</td>\n",
       "      <td>-1.003434</td>\n",
       "      <td>-0.614265</td>\n",
       "      <td>-0.955589</td>\n",
       "      <td>-1.090651</td>\n",
       "      <td>0.014135</td>\n",
       "      <td>-0.698267</td>\n",
       "      <td>0.008165</td>\n",
       "      <td>-1.544559</td>\n",
       "      <td>-0.540052</td>\n",
       "      <td>-0.041358</td>\n",
       "      <td>-0.199361</td>\n",
       "      <td>0.014143</td>\n",
       "    </tr>\n",
       "    <tr>\n",
       "      <th>9680</th>\n",
       "      <td>1.347427</td>\n",
       "      <td>-1.003434</td>\n",
       "      <td>-1.003602</td>\n",
       "      <td>-0.807079</td>\n",
       "      <td>-1.490060</td>\n",
       "      <td>0.014129</td>\n",
       "      <td>-0.698267</td>\n",
       "      <td>0.008165</td>\n",
       "      <td>1.551508</td>\n",
       "      <td>-0.540052</td>\n",
       "      <td>-0.294324</td>\n",
       "      <td>1.016469</td>\n",
       "      <td>0.014143</td>\n",
       "    </tr>\n",
       "    <tr>\n",
       "      <th>7093</th>\n",
       "      <td>-0.440323</td>\n",
       "      <td>0.210319</td>\n",
       "      <td>3.779674</td>\n",
       "      <td>0.021889</td>\n",
       "      <td>-1.290356</td>\n",
       "      <td>0.014143</td>\n",
       "      <td>0.552652</td>\n",
       "      <td>0.008165</td>\n",
       "      <td>0.003474</td>\n",
       "      <td>-0.540052</td>\n",
       "      <td>-0.428876</td>\n",
       "      <td>-0.661010</td>\n",
       "      <td>0.014144</td>\n",
       "    </tr>\n",
       "    <tr>\n",
       "      <th>11293</th>\n",
       "      <td>0.453552</td>\n",
       "      <td>-0.275182</td>\n",
       "      <td>-0.447407</td>\n",
       "      <td>0.037191</td>\n",
       "      <td>-1.290356</td>\n",
       "      <td>0.014138</td>\n",
       "      <td>-0.760813</td>\n",
       "      <td>0.008165</td>\n",
       "      <td>0.003474</td>\n",
       "      <td>-0.540052</td>\n",
       "      <td>1.237547</td>\n",
       "      <td>-0.862125</td>\n",
       "      <td>0.014144</td>\n",
       "    </tr>\n",
       "    <tr>\n",
       "      <th>820</th>\n",
       "      <td>1.347427</td>\n",
       "      <td>-1.246185</td>\n",
       "      <td>-0.058070</td>\n",
       "      <td>-0.003803</td>\n",
       "      <td>-0.092130</td>\n",
       "      <td>0.014149</td>\n",
       "      <td>0.552652</td>\n",
       "      <td>0.008165</td>\n",
       "      <td>0.003474</td>\n",
       "      <td>-0.540052</td>\n",
       "      <td>1.167737</td>\n",
       "      <td>-1.374053</td>\n",
       "      <td>0.014144</td>\n",
       "    </tr>\n",
       "    <tr>\n",
       "      <th>...</th>\n",
       "      <td>...</td>\n",
       "      <td>...</td>\n",
       "      <td>...</td>\n",
       "      <td>...</td>\n",
       "      <td>...</td>\n",
       "      <td>...</td>\n",
       "      <td>...</td>\n",
       "      <td>...</td>\n",
       "      <td>...</td>\n",
       "      <td>...</td>\n",
       "      <td>...</td>\n",
       "      <td>...</td>\n",
       "      <td>...</td>\n",
       "    </tr>\n",
       "    <tr>\n",
       "      <th>5191</th>\n",
       "      <td>0.453552</td>\n",
       "      <td>-1.003434</td>\n",
       "      <td>-0.336168</td>\n",
       "      <td>-0.239893</td>\n",
       "      <td>0.307278</td>\n",
       "      <td>0.014142</td>\n",
       "      <td>-0.823359</td>\n",
       "      <td>0.008165</td>\n",
       "      <td>-1.544559</td>\n",
       "      <td>1.851674</td>\n",
       "      <td>1.116694</td>\n",
       "      <td>1.453741</td>\n",
       "      <td>0.014143</td>\n",
       "    </tr>\n",
       "    <tr>\n",
       "      <th>13418</th>\n",
       "      <td>-0.440323</td>\n",
       "      <td>-0.275182</td>\n",
       "      <td>0.386885</td>\n",
       "      <td>-0.335318</td>\n",
       "      <td>3.103138</td>\n",
       "      <td>0.014156</td>\n",
       "      <td>1.365749</td>\n",
       "      <td>0.008165</td>\n",
       "      <td>-1.028548</td>\n",
       "      <td>-0.540052</td>\n",
       "      <td>-1.979701</td>\n",
       "      <td>0.157272</td>\n",
       "      <td>0.014144</td>\n",
       "    </tr>\n",
       "    <tr>\n",
       "      <th>5390</th>\n",
       "      <td>0.453552</td>\n",
       "      <td>1.181322</td>\n",
       "      <td>-0.836743</td>\n",
       "      <td>-0.611891</td>\n",
       "      <td>-0.890947</td>\n",
       "      <td>0.014133</td>\n",
       "      <td>-1.010997</td>\n",
       "      <td>0.008165</td>\n",
       "      <td>-1.544559</td>\n",
       "      <td>1.851674</td>\n",
       "      <td>-0.268990</td>\n",
       "      <td>1.027134</td>\n",
       "      <td>0.014142</td>\n",
       "    </tr>\n",
       "    <tr>\n",
       "      <th>860</th>\n",
       "      <td>-0.440323</td>\n",
       "      <td>-1.246185</td>\n",
       "      <td>0.108788</td>\n",
       "      <td>0.066548</td>\n",
       "      <td>1.505504</td>\n",
       "      <td>0.014150</td>\n",
       "      <td>0.615198</td>\n",
       "      <td>0.008165</td>\n",
       "      <td>1.551508</td>\n",
       "      <td>-0.540052</td>\n",
       "      <td>1.245804</td>\n",
       "      <td>-0.290934</td>\n",
       "      <td>0.014145</td>\n",
       "    </tr>\n",
       "    <tr>\n",
       "      <th>7270</th>\n",
       "      <td>0.453552</td>\n",
       "      <td>-1.246185</td>\n",
       "      <td>-0.224929</td>\n",
       "      <td>0.392438</td>\n",
       "      <td>0.307278</td>\n",
       "      <td>0.014141</td>\n",
       "      <td>0.052284</td>\n",
       "      <td>0.008165</td>\n",
       "      <td>1.035497</td>\n",
       "      <td>-0.540052</td>\n",
       "      <td>-0.509195</td>\n",
       "      <td>-0.704890</td>\n",
       "      <td>0.014143</td>\n",
       "    </tr>\n",
       "  </tbody>\n",
       "</table>\n",
       "<p>12000 rows × 13 columns</p>\n",
       "</div>"
      ],
      "text/plain": [
       "       Type_of_AC      City     Model  Cooling_Capacity  Avg_Temp  Room_SIze  \\\n",
       "9839    -0.440323 -1.003434 -0.614265         -0.955589 -1.090651   0.014135   \n",
       "9680     1.347427 -1.003434 -1.003602         -0.807079 -1.490060   0.014129   \n",
       "7093    -0.440323  0.210319  3.779674          0.021889 -1.290356   0.014143   \n",
       "11293    0.453552 -0.275182 -0.447407          0.037191 -1.290356   0.014138   \n",
       "820      1.347427 -1.246185 -0.058070         -0.003803 -0.092130   0.014149   \n",
       "...           ...       ...       ...               ...       ...        ...   \n",
       "5191     0.453552 -1.003434 -0.336168         -0.239893  0.307278   0.014142   \n",
       "13418   -0.440323 -0.275182  0.386885         -0.335318  3.103138   0.014156   \n",
       "5390     0.453552  1.181322 -0.836743         -0.611891 -0.890947   0.014133   \n",
       "860     -0.440323 -1.246185  0.108788          0.066548  1.505504   0.014150   \n",
       "7270     0.453552 -1.246185 -0.224929          0.392438  0.307278   0.014141   \n",
       "\n",
       "       Num_People  Star_Rating  Age_of_Unit  Maintenance  Avg_Usage  \\\n",
       "9839    -0.698267     0.008165    -1.544559    -0.540052  -0.041358   \n",
       "9680    -0.698267     0.008165     1.551508    -0.540052  -0.294324   \n",
       "7093     0.552652     0.008165     0.003474    -0.540052  -0.428876   \n",
       "11293   -0.760813     0.008165     0.003474    -0.540052   1.237547   \n",
       "820      0.552652     0.008165     0.003474    -0.540052   1.167737   \n",
       "...           ...          ...          ...          ...        ...   \n",
       "5191    -0.823359     0.008165    -1.544559     1.851674   1.116694   \n",
       "13418    1.365749     0.008165    -1.028548    -0.540052  -1.979701   \n",
       "5390    -1.010997     0.008165    -1.544559     1.851674  -0.268990   \n",
       "860      0.615198     0.008165     1.551508    -0.540052   1.245804   \n",
       "7270     0.052284     0.008165     1.035497    -0.540052  -0.509195   \n",
       "\n",
       "       Avg_AC_Temp  Input_Power  \n",
       "9839     -0.199361     0.014143  \n",
       "9680      1.016469     0.014143  \n",
       "7093     -0.661010     0.014144  \n",
       "11293    -0.862125     0.014144  \n",
       "820      -1.374053     0.014144  \n",
       "...            ...          ...  \n",
       "5191      1.453741     0.014143  \n",
       "13418     0.157272     0.014144  \n",
       "5390      1.027134     0.014142  \n",
       "860      -0.290934     0.014145  \n",
       "7270     -0.704890     0.014143  \n",
       "\n",
       "[12000 rows x 13 columns]"
      ]
     },
     "execution_count": 32,
     "metadata": {},
     "output_type": "execute_result"
    }
   ],
   "source": [
    "X_train"
   ]
  },
  {
   "cell_type": "markdown",
   "id": "a6751e7c",
   "metadata": {},
   "source": [
    "### Model Building"
   ]
  },
  {
   "cell_type": "code",
   "execution_count": 33,
   "id": "4ff9e5fa",
   "metadata": {},
   "outputs": [
    {
     "data": {
      "text/html": [
       "<style>#sk-container-id-1 {color: black;background-color: white;}#sk-container-id-1 pre{padding: 0;}#sk-container-id-1 div.sk-toggleable {background-color: white;}#sk-container-id-1 label.sk-toggleable__label {cursor: pointer;display: block;width: 100%;margin-bottom: 0;padding: 0.3em;box-sizing: border-box;text-align: center;}#sk-container-id-1 label.sk-toggleable__label-arrow:before {content: \"▸\";float: left;margin-right: 0.25em;color: #696969;}#sk-container-id-1 label.sk-toggleable__label-arrow:hover:before {color: black;}#sk-container-id-1 div.sk-estimator:hover label.sk-toggleable__label-arrow:before {color: black;}#sk-container-id-1 div.sk-toggleable__content {max-height: 0;max-width: 0;overflow: hidden;text-align: left;background-color: #f0f8ff;}#sk-container-id-1 div.sk-toggleable__content pre {margin: 0.2em;color: black;border-radius: 0.25em;background-color: #f0f8ff;}#sk-container-id-1 input.sk-toggleable__control:checked~div.sk-toggleable__content {max-height: 200px;max-width: 100%;overflow: auto;}#sk-container-id-1 input.sk-toggleable__control:checked~label.sk-toggleable__label-arrow:before {content: \"▾\";}#sk-container-id-1 div.sk-estimator input.sk-toggleable__control:checked~label.sk-toggleable__label {background-color: #d4ebff;}#sk-container-id-1 div.sk-label input.sk-toggleable__control:checked~label.sk-toggleable__label {background-color: #d4ebff;}#sk-container-id-1 input.sk-hidden--visually {border: 0;clip: rect(1px 1px 1px 1px);clip: rect(1px, 1px, 1px, 1px);height: 1px;margin: -1px;overflow: hidden;padding: 0;position: absolute;width: 1px;}#sk-container-id-1 div.sk-estimator {font-family: monospace;background-color: #f0f8ff;border: 1px dotted black;border-radius: 0.25em;box-sizing: border-box;margin-bottom: 0.5em;}#sk-container-id-1 div.sk-estimator:hover {background-color: #d4ebff;}#sk-container-id-1 div.sk-parallel-item::after {content: \"\";width: 100%;border-bottom: 1px solid gray;flex-grow: 1;}#sk-container-id-1 div.sk-label:hover label.sk-toggleable__label {background-color: #d4ebff;}#sk-container-id-1 div.sk-serial::before {content: \"\";position: absolute;border-left: 1px solid gray;box-sizing: border-box;top: 0;bottom: 0;left: 50%;z-index: 0;}#sk-container-id-1 div.sk-serial {display: flex;flex-direction: column;align-items: center;background-color: white;padding-right: 0.2em;padding-left: 0.2em;position: relative;}#sk-container-id-1 div.sk-item {position: relative;z-index: 1;}#sk-container-id-1 div.sk-parallel {display: flex;align-items: stretch;justify-content: center;background-color: white;position: relative;}#sk-container-id-1 div.sk-item::before, #sk-container-id-1 div.sk-parallel-item::before {content: \"\";position: absolute;border-left: 1px solid gray;box-sizing: border-box;top: 0;bottom: 0;left: 50%;z-index: -1;}#sk-container-id-1 div.sk-parallel-item {display: flex;flex-direction: column;z-index: 1;position: relative;background-color: white;}#sk-container-id-1 div.sk-parallel-item:first-child::after {align-self: flex-end;width: 50%;}#sk-container-id-1 div.sk-parallel-item:last-child::after {align-self: flex-start;width: 50%;}#sk-container-id-1 div.sk-parallel-item:only-child::after {width: 0;}#sk-container-id-1 div.sk-dashed-wrapped {border: 1px dashed gray;margin: 0 0.4em 0.5em 0.4em;box-sizing: border-box;padding-bottom: 0.4em;background-color: white;}#sk-container-id-1 div.sk-label label {font-family: monospace;font-weight: bold;display: inline-block;line-height: 1.2em;}#sk-container-id-1 div.sk-label-container {text-align: center;}#sk-container-id-1 div.sk-container {/* jupyter's `normalize.less` sets `[hidden] { display: none; }` but bootstrap.min.css set `[hidden] { display: none !important; }` so we also need the `!important` here to be able to override the default hidden behavior on the sphinx rendered scikit-learn.org. See: https://github.com/scikit-learn/scikit-learn/issues/21755 */display: inline-block !important;position: relative;}#sk-container-id-1 div.sk-text-repr-fallback {display: none;}</style><div id=\"sk-container-id-1\" class=\"sk-top-container\"><div class=\"sk-text-repr-fallback\"><pre>XGBRegressor(base_score=None, booster=None, callbacks=None,\n",
       "             colsample_bylevel=None, colsample_bynode=None,\n",
       "             colsample_bytree=None, device=None, early_stopping_rounds=None,\n",
       "             enable_categorical=False, eval_metric=None, feature_types=None,\n",
       "             gamma=None, grow_policy=None, importance_type=None,\n",
       "             interaction_constraints=None, learning_rate=None, max_bin=None,\n",
       "             max_cat_threshold=None, max_cat_to_onehot=None,\n",
       "             max_delta_step=None, max_depth=None, max_leaves=None,\n",
       "             min_child_weight=None, missing=nan, monotone_constraints=None,\n",
       "             multi_strategy=None, n_estimators=None, n_jobs=None,\n",
       "             num_parallel_tree=None, random_state=None, ...)</pre><b>In a Jupyter environment, please rerun this cell to show the HTML representation or trust the notebook. <br />On GitHub, the HTML representation is unable to render, please try loading this page with nbviewer.org.</b></div><div class=\"sk-container\" hidden><div class=\"sk-item\"><div class=\"sk-estimator sk-toggleable\"><input class=\"sk-toggleable__control sk-hidden--visually\" id=\"sk-estimator-id-1\" type=\"checkbox\" checked><label for=\"sk-estimator-id-1\" class=\"sk-toggleable__label sk-toggleable__label-arrow\">XGBRegressor</label><div class=\"sk-toggleable__content\"><pre>XGBRegressor(base_score=None, booster=None, callbacks=None,\n",
       "             colsample_bylevel=None, colsample_bynode=None,\n",
       "             colsample_bytree=None, device=None, early_stopping_rounds=None,\n",
       "             enable_categorical=False, eval_metric=None, feature_types=None,\n",
       "             gamma=None, grow_policy=None, importance_type=None,\n",
       "             interaction_constraints=None, learning_rate=None, max_bin=None,\n",
       "             max_cat_threshold=None, max_cat_to_onehot=None,\n",
       "             max_delta_step=None, max_depth=None, max_leaves=None,\n",
       "             min_child_weight=None, missing=nan, monotone_constraints=None,\n",
       "             multi_strategy=None, n_estimators=None, n_jobs=None,\n",
       "             num_parallel_tree=None, random_state=None, ...)</pre></div></div></div></div></div>"
      ],
      "text/plain": [
       "XGBRegressor(base_score=None, booster=None, callbacks=None,\n",
       "             colsample_bylevel=None, colsample_bynode=None,\n",
       "             colsample_bytree=None, device=None, early_stopping_rounds=None,\n",
       "             enable_categorical=False, eval_metric=None, feature_types=None,\n",
       "             gamma=None, grow_policy=None, importance_type=None,\n",
       "             interaction_constraints=None, learning_rate=None, max_bin=None,\n",
       "             max_cat_threshold=None, max_cat_to_onehot=None,\n",
       "             max_delta_step=None, max_depth=None, max_leaves=None,\n",
       "             min_child_weight=None, missing=nan, monotone_constraints=None,\n",
       "             multi_strategy=None, n_estimators=None, n_jobs=None,\n",
       "             num_parallel_tree=None, random_state=None, ...)"
      ]
     },
     "execution_count": 33,
     "metadata": {},
     "output_type": "execute_result"
    }
   ],
   "source": [
    "# Initialize and train regression models\n",
    "svm_reg = SVR(kernel='linear')\n",
    "random_forest_reg = RandomForestRegressor()\n",
    "linear_reg = LinearRegression()\n",
    "xgb_reg = XGBRegressor()\n",
    "\n",
    "svm_reg.fit(X_train, y_train)\n",
    "random_forest_reg.fit(X_train, y_train)\n",
    "linear_reg.fit(X_train, y_train)\n",
    "xgb_reg.fit(X_train, y_train)"
   ]
  },
  {
   "cell_type": "code",
   "execution_count": 34,
   "id": "caec8ed8",
   "metadata": {},
   "outputs": [],
   "source": [
    "# Make predictions on the test data\n",
    "svm_preds = svm_reg.predict(X_test)\n",
    "random_forest_preds = random_forest_reg.predict(X_test)\n",
    "linear_reg_preds = linear_reg.predict(X_test)\n",
    "xgb_preds = xgb_reg.predict(X_test)\n",
    "\n",
    "# Evaluate the performance of each model\n",
    "svm_mse = mean_squared_error(y_test, svm_preds)\n",
    "random_forest_mse = mean_squared_error(y_test, random_forest_preds)\n",
    "linear_reg_mse = mean_squared_error(y_test, linear_reg_preds)\n",
    "xgb_mse = mean_squared_error(y_test, xgb_preds)\n",
    "\n",
    "svm_r2 = r2_score(y_test, svm_preds)\n",
    "random_forest_r2 = r2_score(y_test, random_forest_preds)\n",
    "linear_reg_r2 = r2_score(y_test, linear_reg_preds)\n",
    "xgb_r2 = r2_score(y_test, xgb_preds)"
   ]
  },
  {
   "cell_type": "code",
   "execution_count": 35,
   "id": "418d4951",
   "metadata": {},
   "outputs": [
    {
     "name": "stdout",
     "output_type": "stream",
     "text": [
      "SVM Regression MSE: 0.08959169161266374\n",
      "Random Forest Regression MSE: 0.04843052517399998\n",
      "Linear Regression MSE: 0.0891492191579393\n",
      "XGBoost Regression MSE: 0.04087828477374854 \n",
      "\n",
      "\n",
      "SVM Regression R-squared: 0.3832265475387211\n",
      "Random Forest Regression R-squared: 0.6665911573003646\n",
      "Linear Regression R-squared: 0.38627264766929204\n",
      "XGBoost Regression R-squared: 0.7185828241796874\n"
     ]
    }
   ],
   "source": [
    "# Print the evaluation metrics\n",
    "print(\"SVM Regression MSE:\", svm_mse)\n",
    "print(\"Random Forest Regression MSE:\", random_forest_mse)\n",
    "print(\"Linear Regression MSE:\", linear_reg_mse)\n",
    "print(\"XGBoost Regression MSE:\", xgb_mse,'\\n\\n')\n",
    "\n",
    "print(\"SVM Regression R-squared:\", svm_r2)\n",
    "print(\"Random Forest Regression R-squared:\", random_forest_r2)\n",
    "print(\"Linear Regression R-squared:\", linear_reg_r2)\n",
    "print(\"XGBoost Regression R-squared:\", xgb_r2)"
   ]
  },
  {
   "cell_type": "markdown",
   "id": "7a5c2ec6",
   "metadata": {},
   "source": [
    "## Hyper Paramter Tunning"
   ]
  },
  {
   "cell_type": "code",
   "execution_count": 36,
   "id": "6b75a38f",
   "metadata": {},
   "outputs": [
    {
     "name": "stdout",
     "output_type": "stream",
     "text": [
      "Fitting 5 folds for each of 243 candidates, totalling 1215 fits\n",
      "Best Hyperparameters: {'colsample_bytree': 0.8, 'learning_rate': 0.1, 'max_depth': 3, 'n_estimators': 300, 'subsample': 0.8}\n",
      "Tuned XGBoost Model MSE: 0.03407374935838478\n"
     ]
    }
   ],
   "source": [
    "# Define the parameter grid for hyperparameter tuning\n",
    "param_grid = {\n",
    "    'n_estimators': [100, 200, 300],\n",
    "    'learning_rate': [0.01, 0.1, 0.2],\n",
    "    'max_depth': [3, 4, 5],\n",
    "    'subsample': [0.8, 0.9, 1.0],\n",
    "    'colsample_bytree': [0.8, 0.9, 1.0],\n",
    "}\n",
    "\n",
    "# Initialize the XGBoost Regressor\n",
    "xgb_reg = XGBRegressor()\n",
    "\n",
    "# Initialize Grid Search with cross-validation\n",
    "grid_search = GridSearchCV(xgb_reg, param_grid, cv=5, scoring='neg_mean_squared_error', verbose=1)\n",
    "\n",
    "# Perform the grid search to find the best hyperparameters\n",
    "grid_search.fit(X_train, y_train)\n",
    "\n",
    "# Get the best hyperparameters\n",
    "best_params = grid_search.best_params_\n",
    "\n",
    "# Train the model with the best hyperparameters\n",
    "best_xgb_reg = XGBRegressor(**best_params)\n",
    "best_xgb_reg.fit(X_train, y_train)\n",
    "\n",
    "# Make predictions on the test data\n",
    "xgb_preds = best_xgb_reg.predict(X_test)\n",
    "\n",
    "# Calculate the Mean Squared Error (MSE) for the tuned model\n",
    "mse = mean_squared_error(y_test, xgb_preds)\n",
    "\n",
    "print(\"Best Hyperparameters:\", best_params)\n",
    "print(\"Tuned XGBoost Model MSE:\", mse)"
   ]
  },
  {
   "cell_type": "markdown",
   "id": "6aae4375",
   "metadata": {},
   "source": [
    "### Model Building using Best Paramters"
   ]
  },
  {
   "cell_type": "code",
   "execution_count": 41,
   "id": "fbba42d8",
   "metadata": {},
   "outputs": [],
   "source": [
    "from xgboost import XGBRegressor\n",
    "\n",
    "# Define the hyperparameters\n",
    "xgb_params = {\n",
    "    'colsample_bytree': 0.8,\n",
    "    'learning_rate': 0.1,\n",
    "    'max_depth': 3,\n",
    "    'n_estimators': 300,\n",
    "    'subsample': 0.8\n",
    "}\n",
    "\n",
    "# Initialize the XGBoost Regressor with the specified hyperparameters\n",
    "xgb_reg = XGBRegressor(**xgb_params)\n",
    "\n",
    "# Train the model on your training data (X_train, y_train)\n",
    "xgb_reg.fit(X_train, y_train)\n",
    "\n",
    "# Make predictions on your test data (X_test)\n",
    "xgb_preds = xgb_reg.predict(X_test)"
   ]
  },
  {
   "cell_type": "code",
   "execution_count": 42,
   "id": "ec0ca3a3",
   "metadata": {},
   "outputs": [
    {
     "data": {
      "text/plain": [
       "array([1.7605911, 2.6775608, 2.0503561, ..., 2.3688328, 1.9928875,\n",
       "       1.9997829], dtype=float32)"
      ]
     },
     "execution_count": 42,
     "metadata": {},
     "output_type": "execute_result"
    }
   ],
   "source": [
    "xgb_preds"
   ]
  },
  {
   "cell_type": "code",
   "execution_count": 43,
   "id": "42312e25",
   "metadata": {},
   "outputs": [],
   "source": [
    "xgb_mse = mean_squared_error(y_test, xgb_preds)\n",
    "xgb_r2 = r2_score(y_test, xgb_preds)"
   ]
  },
  {
   "cell_type": "code",
   "execution_count": 44,
   "id": "6bc8fe38",
   "metadata": {},
   "outputs": [
    {
     "name": "stdout",
     "output_type": "stream",
     "text": [
      "XGBoost Regression MSE: 0.03407374935838478 \n",
      "\n",
      "\n",
      "XGBoost Regression R-squared: 0.7654270875816269\n"
     ]
    }
   ],
   "source": [
    "print(\"XGBoost Regression MSE:\", xgb_mse,'\\n\\n')\n",
    "print(\"XGBoost Regression R-squared:\", xgb_r2)"
   ]
  },
  {
   "cell_type": "markdown",
   "id": "e7a16156",
   "metadata": {},
   "source": [
    "### Predictions for Test"
   ]
  },
  {
   "cell_type": "code",
   "execution_count": 47,
   "id": "902e9a04",
   "metadata": {},
   "outputs": [
    {
     "data": {
      "text/html": [
       "<div>\n",
       "<style scoped>\n",
       "    .dataframe tbody tr th:only-of-type {\n",
       "        vertical-align: middle;\n",
       "    }\n",
       "\n",
       "    .dataframe tbody tr th {\n",
       "        vertical-align: top;\n",
       "    }\n",
       "\n",
       "    .dataframe thead th {\n",
       "        text-align: right;\n",
       "    }\n",
       "</style>\n",
       "<table border=\"1\" class=\"dataframe\">\n",
       "  <thead>\n",
       "    <tr style=\"text-align: right;\">\n",
       "      <th></th>\n",
       "      <th>ID</th>\n",
       "      <th>Type_of_AC</th>\n",
       "      <th>Model</th>\n",
       "      <th>Cooling_Capacity</th>\n",
       "      <th>Avg_Temp</th>\n",
       "      <th>Room_SIze</th>\n",
       "      <th>Num_People</th>\n",
       "      <th>Star_Rating</th>\n",
       "      <th>Age_of_Unit</th>\n",
       "      <th>Maintenance</th>\n",
       "      <th>Avg_Usage</th>\n",
       "      <th>Avg_AC_Temp</th>\n",
       "      <th>City</th>\n",
       "      <th>Input_Power</th>\n",
       "    </tr>\n",
       "  </thead>\n",
       "  <tbody>\n",
       "    <tr>\n",
       "      <th>0</th>\n",
       "      <td>191220</td>\n",
       "      <td>Portable</td>\n",
       "      <td>2.1</td>\n",
       "      <td>4283.4</td>\n",
       "      <td>35</td>\n",
       "      <td>NaN</td>\n",
       "      <td>9</td>\n",
       "      <td>NaN</td>\n",
       "      <td>5.0</td>\n",
       "      <td>0</td>\n",
       "      <td>8.77</td>\n",
       "      <td>14.888889</td>\n",
       "      <td>Moscow</td>\n",
       "      <td>2906.044714</td>\n",
       "    </tr>\n",
       "  </tbody>\n",
       "</table>\n",
       "</div>"
      ],
      "text/plain": [
       "       ID Type_of_AC  Model  Cooling_Capacity  Avg_Temp  Room_SIze  \\\n",
       "0  191220   Portable    2.1            4283.4        35        NaN   \n",
       "\n",
       "   Num_People  Star_Rating  Age_of_Unit  Maintenance  Avg_Usage  Avg_AC_Temp  \\\n",
       "0           9          NaN          5.0            0       8.77    14.888889   \n",
       "\n",
       "     City  Input_Power  \n",
       "0  Moscow  2906.044714  "
      ]
     },
     "execution_count": 47,
     "metadata": {},
     "output_type": "execute_result"
    }
   ],
   "source": [
    "test.head(1)"
   ]
  },
  {
   "cell_type": "code",
   "execution_count": 48,
   "id": "1ab300e9",
   "metadata": {},
   "outputs": [
    {
     "data": {
      "text/html": [
       "<div>\n",
       "<style scoped>\n",
       "    .dataframe tbody tr th:only-of-type {\n",
       "        vertical-align: middle;\n",
       "    }\n",
       "\n",
       "    .dataframe tbody tr th {\n",
       "        vertical-align: top;\n",
       "    }\n",
       "\n",
       "    .dataframe thead th {\n",
       "        text-align: right;\n",
       "    }\n",
       "</style>\n",
       "<table border=\"1\" class=\"dataframe\">\n",
       "  <thead>\n",
       "    <tr style=\"text-align: right;\">\n",
       "      <th></th>\n",
       "      <th>Type_of_AC</th>\n",
       "      <th>City</th>\n",
       "      <th>Model</th>\n",
       "      <th>Cooling_Capacity</th>\n",
       "      <th>Avg_Temp</th>\n",
       "      <th>Room_SIze</th>\n",
       "      <th>Num_People</th>\n",
       "      <th>Star_Rating</th>\n",
       "      <th>Age_of_Unit</th>\n",
       "      <th>Maintenance</th>\n",
       "      <th>Avg_Usage</th>\n",
       "      <th>Avg_AC_Temp</th>\n",
       "      <th>Input_Power</th>\n",
       "    </tr>\n",
       "  </thead>\n",
       "  <tbody>\n",
       "    <tr>\n",
       "      <th>0</th>\n",
       "      <td>-0.440323</td>\n",
       "      <td>0.210319</td>\n",
       "      <td>-0.391787</td>\n",
       "      <td>-0.211148</td>\n",
       "      <td>-0.291834</td>\n",
       "      <td>NaN</td>\n",
       "      <td>-0.635721</td>\n",
       "      <td>NaN</td>\n",
       "      <td>1.035497</td>\n",
       "      <td>-0.540052</td>\n",
       "      <td>-0.460778</td>\n",
       "      <td>-0.707734</td>\n",
       "      <td>0.014143</td>\n",
       "    </tr>\n",
       "  </tbody>\n",
       "</table>\n",
       "</div>"
      ],
      "text/plain": [
       "   Type_of_AC      City     Model  Cooling_Capacity  Avg_Temp  Room_SIze  \\\n",
       "0   -0.440323  0.210319 -0.391787         -0.211148 -0.291834        NaN   \n",
       "\n",
       "   Num_People  Star_Rating  Age_of_Unit  Maintenance  Avg_Usage  Avg_AC_Temp  \\\n",
       "0   -0.635721          NaN     1.035497    -0.540052  -0.460778    -0.707734   \n",
       "\n",
       "   Input_Power  \n",
       "0     0.014143  "
      ]
     },
     "execution_count": 48,
     "metadata": {},
     "output_type": "execute_result"
    }
   ],
   "source": [
    "Test_DF_scaled.head(1)"
   ]
  },
  {
   "cell_type": "code",
   "execution_count": 49,
   "id": "a2cb3e6e",
   "metadata": {},
   "outputs": [],
   "source": [
    "# Make predictions on your test data  (test)\n",
    "xgb_preds_test = xgb_reg.predict(Test_DF_scaled)"
   ]
  },
  {
   "cell_type": "code",
   "execution_count": 50,
   "id": "6451215d",
   "metadata": {},
   "outputs": [],
   "source": [
    "test['Electricity_Consumption_AC'] = xgb_preds_test\n",
    "Final_Result = test[['ID','Electricity_Consumption_AC']] "
   ]
  },
  {
   "cell_type": "code",
   "execution_count": 53,
   "id": "9526072f",
   "metadata": {},
   "outputs": [],
   "source": [
    "Final_Result.to_csv('submission.csv',index=False)"
   ]
  },
  {
   "cell_type": "markdown",
   "id": "7bfc1551",
   "metadata": {},
   "source": [
    "---------------------------------------------Thank you----------------------------------------"
   ]
  }
 ],
 "metadata": {
  "kernelspec": {
   "display_name": "Python 3 (ipykernel)",
   "language": "python",
   "name": "python3"
  },
  "language_info": {
   "codemirror_mode": {
    "name": "ipython",
    "version": 3
   },
   "file_extension": ".py",
   "mimetype": "text/x-python",
   "name": "python",
   "nbconvert_exporter": "python",
   "pygments_lexer": "ipython3",
   "version": "3.10.9"
  }
 },
 "nbformat": 4,
 "nbformat_minor": 5
}
